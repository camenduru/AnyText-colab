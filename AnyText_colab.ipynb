{
  "cells": [
    {
      "cell_type": "markdown",
      "metadata": {
        "id": "view-in-github"
      },
      "source": [
        "[![Open In Colab](https://colab.research.google.com/assets/colab-badge.svg)](https://colab.research.google.com/github/camenduru/AnyText-colab/blob/main/AnyText_colab.ipynb)"
      ]
    },
    {
      "cell_type": "code",
      "execution_count": null,
      "metadata": {
        "id": "VjYy0F2gZIPR"
      },
      "outputs": [],
      "source": [
        "# %cd /content\n",
        "# !git clone -b dev https://github.com/camenduru/AnyText\n",
        "# %cd /content/AnyText\n",
        "\n",
        "# !wget https://dl.dafont.com/dl/?f=horison -O /content/AnyText/horison.zip\n",
        "# !unzip /content/AnyText/horison.zip\n",
        "# !mv /content/AnyText/Horison.ttf ./font/Horison.ttf\n",
        "\n",
        "%cd /content\n",
        "!git clone -b dev https://github.com/camenduru/studio_anytext-ms\n",
        "%cd /content/studio_anytext-ms\n",
        "\n",
        "!pip install -q modelscope omegaconf pytorch-lightning sentencepiece gradio==3.50.2 open-clip-torch sacremoses subword_nmt\n",
        "!pip install -q https://download.pytorch.org/whl/cu121/xformers-0.0.22.post7-cp310-cp310-manylinux2014_x86_64.whl\n",
        "\n",
        "# !python inference.py\n",
        "# !python demo.py\n",
        "\n",
        "!python app.py"
      ]
    }
  ],
  "metadata": {
    "accelerator": "GPU",
    "colab": {
      "gpuType": "T4",
      "provenance": []
    },
    "kernelspec": {
      "display_name": "Python 3",
      "name": "python3"
    },
    "language_info": {
      "name": "python"
    }
  },
  "nbformat": 4,
  "nbformat_minor": 0
}
